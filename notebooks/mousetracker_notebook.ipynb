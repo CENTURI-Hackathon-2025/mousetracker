{
 "cells": [
  {
   "cell_type": "code",
   "metadata": {
    "ExecuteTime": {
     "end_time": "2025-06-20T19:13:00.037711Z",
     "start_time": "2025-06-20T19:00:41.299797Z"
    }
   },
   "source": [
    "from src.mousetracker._mousetracker import run_app\n",
    "\n",
    "# While running:\n",
    "#   - Press 'spacebar' to pause/play the video\n",
    "#   - Press 'q' to quit\n",
    "\n",
    "run_app()"
   ],
   "outputs": [
    {
     "name": "stdout",
     "output_type": "stream",
     "text": [
      "Video found\n",
      "Time:  716.1769480425864\n"
     ]
    }
   ],
   "execution_count": 9
  },
  {
   "metadata": {},
   "cell_type": "code",
   "outputs": [],
   "execution_count": null,
   "source": ""
  }
 ],
 "metadata": {
  "kernelspec": {
   "display_name": ".venv",
   "language": "python",
   "name": "python3"
  },
  "language_info": {
   "codemirror_mode": {
    "name": "ipython",
    "version": 3
   },
   "file_extension": ".py",
   "mimetype": "text/x-python",
   "name": "python",
   "nbconvert_exporter": "python",
   "pygments_lexer": "ipython3",
   "version": "3.12.3"
  }
 },
 "nbformat": 4,
 "nbformat_minor": 2
}
